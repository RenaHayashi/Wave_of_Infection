{
 "cells": [
  {
   "cell_type": "code",
   "execution_count": 2,
   "id": "c6ea01b6",
   "metadata": {},
   "outputs": [],
   "source": [
    "import matplotlib.pyplot as plt\n",
    "import math\n",
    "import random"
   ]
  },
  {
   "cell_type": "code",
   "execution_count": 3,
   "id": "8d25694c",
   "metadata": {},
   "outputs": [],
   "source": [
    "# モデルのパラメータ\n",
    "b0 = 1*10**(-7)\n",
    "b1 = 2*b0\n",
    "c = 1.6*10\n",
    "B = 0.1\n",
    "gamma=150\n",
    "a0=3\n",
    "a1=1.75*a0\n",
    "\n",
    "# 初期値\n",
    "x = 1*10**8"
   ]
  },
  {
   "cell_type": "code",
   "execution_count": 4,
   "id": "af3168ae",
   "metadata": {},
   "outputs": [
    {
     "name": "stdout",
     "output_type": "stream",
     "text": [
      "0.6 150 1.5 0.2\n"
     ]
    }
   ],
   "source": [
    "#decrease parameters\n",
    "z0 = (c - b0*x)/((b1-b0)*x)\n",
    "sigma = (B*gamma)/((b1 - b0)*x)\n",
    "lamda =a0/(B*gamma)\n",
    "\n",
    "# z0 = 0.3\n",
    "# sigma =0.01\n",
    "# gamma=100\n",
    "# lamda =0.2\n",
    "print(z0, gamma, sigma, lamda)"
   ]
  },
  {
   "cell_type": "code",
   "execution_count": 28,
   "id": "191cdfa8",
   "metadata": {},
   "outputs": [
    {
     "name": "stdout",
     "output_type": "stream",
     "text": [
      "0.6000000000000001 0.0444444444444444\n"
     ]
    }
   ],
   "source": [
    "#アイソクライン\n",
    "# 目安\n",
    "z0=(c/x - b0) / (b1 - b0)\n",
    "y0 =((1-z0)/z0) *(z0**2+1/gamma) - lamda\n",
    "\n",
    "print(z0, y0)"
   ]
  },
  {
   "cell_type": "code",
   "execution_count": 29,
   "id": "54f4dd7f",
   "metadata": {},
   "outputs": [
    {
     "data": {
      "text/plain": [
       "0.01"
      ]
     },
     "execution_count": 29,
     "metadata": {},
     "output_type": "execute_result"
    }
   ],
   "source": [
    "#zの幅の設定\n",
    "dz = 0.01\n",
    "zEnd = 1\n",
    "ziEnd = int(zEnd/dz)\n",
    "\n",
    "yy=4900\n",
    "zz=0.01\n",
    "\n",
    "yy_list = [yy]\n",
    "zz_list = [zz]\n",
    "\n",
    "for i in range(1,ziEnd):\n",
    "    zz_new = dz*i\n",
    "    yy_new =(((1-zz_new)/zz_new) *(zz_new*zz_new+(1/gamma)) )- lamda\n",
    "    yy = yy_new\n",
    "    zz = zz_new\n",
    "    yy_list.append(yy)\n",
    "    zz_list.append(zz)\n",
    "\n",
    "yy_list.pop(0)\n",
    "zz_list.pop(0)\n",
    "# print(z_list, y_list)"
   ]
  },
  {
   "cell_type": "code",
   "execution_count": 30,
   "id": "9fe4389c",
   "metadata": {},
   "outputs": [
    {
     "data": {
      "text/plain": [
       "Text(0, 0.5, 'y')"
      ]
     },
     "execution_count": 30,
     "metadata": {},
     "output_type": "execute_result"
    },
    {
     "data": {
      "image/png": "[encoded data removed]",
      "text/plain": [
       "<Figure size 432x288 with 1 Axes>"
      ]
     },
     "metadata": {
      "needs_background": "light"
     },
     "output_type": "display_data"
    }
   ],
   "source": [
    "plt.ylim(0,0.15)\n",
    "plt.plot(zz_list, yy_list, color = \"b\")\n",
    "plt.axvline(z0, color = \"r\")\n",
    "plt.xlabel(\"z\")\n",
    "plt.ylabel(\"y\")"
   ]
  },
  {
   "cell_type": "code",
   "execution_count": 69,
   "id": "be6859c2",
   "metadata": {},
   "outputs": [
    {
     "name": "stdout",
     "output_type": "stream",
     "text": [
      "0.03951476182418641\n"
     ]
    }
   ],
   "source": [
    "# 初期値\n",
    "# y = random.random()\n",
    "# z = random.random()\n",
    "y = 0.4\n",
    "z = 0.95\n",
    "t = 0.0\n",
    "\n",
    "# 時間の設定\n",
    "dt = 0.01\n",
    "tEnd = 100\n",
    "iEnd = int(tEnd/dt)\n",
    "\n",
    "t_list = [t]\n",
    "y_list = [y]\n",
    "z_list = [z]\n",
    "\n",
    "for i in range(1, iEnd):\n",
    "    t = dt*i\n",
    "    y_new = y + dt*(z - z0)*y\n",
    "    z_new = z + dt*(((1-z)/z) *(z*z+(1/gamma)) - lamda - y)*sigma*z\n",
    "    y = y_new\n",
    "    z = z_new\n",
    "\n",
    "    t_list.append(t)\n",
    "    y_list.append(y)\n",
    "    z_list.append(z)\n",
    "    \n",
    "mini = min(z_list)\n",
    "print(mini)"
   ]
  },
  {
   "cell_type": "code",
   "execution_count": 70,
   "id": "714078b1",
   "metadata": {},
   "outputs": [],
   "source": [
    "# 時間発展のプロット\n",
    "# plt.plot(t_list, y_list)\n",
    "# plt.legend([\"infect\"],loc=\"upper right\")"
   ]
  },
  {
   "cell_type": "code",
   "execution_count": 71,
   "id": "cfa4af4e",
   "metadata": {},
   "outputs": [],
   "source": [
    "# plt.plot(t_list, z_list)\n",
    "# plt.legend([\"active ratio\"],loc=\"upper right\")"
   ]
  },
  {
   "cell_type": "code",
   "execution_count": 72,
   "id": "20382389",
   "metadata": {},
   "outputs": [],
   "source": [
    "# 初期値\n",
    "# y = random.random()\n",
    "# z = random.random()\n",
    "y1 = 0.1\n",
    "z1 = 0.95\n",
    "t1 = 0.0\n",
    "\n",
    "# 時間の設定\n",
    "dt = 0.01\n",
    "tEnd = 100\n",
    "iEnd = int(tEnd/dt)\n",
    "\n",
    "t1_list = [t1]\n",
    "y1_list = [y1]\n",
    "z1_list = [z1]\n",
    "\n",
    "for i in range(1, iEnd):\n",
    "    t1 = dt*i\n",
    "    y1_new = y1+ dt*(z1 - z0)*y1\n",
    "    z1_new = z1 + dt*(((1-z1)/z1) *(z1*z1+(1/gamma)) - lamda - y1)*sigma*z1\n",
    "    y1 = y1_new\n",
    "    z1 = z1_new\n",
    "\n",
    "    t1_list.append(t1)\n",
    "    y1_list.append(y1)\n",
    "    z1_list.append(z1)"
   ]
  },
  {
   "cell_type": "code",
   "execution_count": 73,
   "id": "0d2b7b0e",
   "metadata": {},
   "outputs": [],
   "source": [
    "# 初期値\n",
    "# y = random.random()\n",
    "# z = random.random()\n",
    "y2 = 0.2\n",
    "z2= 0.95\n",
    "t2 = 0.0\n",
    "\n",
    "t2_list = [t2]\n",
    "y2_list = [y2]\n",
    "z2_list = [z2]\n",
    "\n",
    "for i in range(1, iEnd):\n",
    "    t2 = dt*i\n",
    "    y2_new = y2 + dt*(z2 - z0)*y2\n",
    "    z2_new = z2 + dt*(((1-z2)/z2) *(z2*z2+(1/gamma)) - lamda - y2)*sigma*z2\n",
    "    y2 = y2_new\n",
    "    z2 = z2_new\n",
    "\n",
    "    t2_list.append(t2)\n",
    "    y2_list.append(y2)\n",
    "    z2_list.append(z2)"
   ]
  },
  {
   "cell_type": "code",
   "execution_count": 74,
   "id": "09862dac",
   "metadata": {},
   "outputs": [
    {
     "data": {
      "image/png": "[encoded data removed]",
      "text/plain": [
       "<Figure size 432x288 with 1 Axes>"
      ]
     },
     "metadata": {
      "needs_background": "light"
     },
     "output_type": "display_data"
    }
   ],
   "source": [
    "plt.ylim(0,0.3)\n",
    "# 軌道\n",
    "plt.plot(z_list, y_list, color='#ff7f00')\n",
    "plt.plot(z1_list, y1_list, color='#ff7f00')\n",
    "plt.plot(z2_list, y2_list, color='#ff7f00')\n",
    "# 平衡点\n",
    "#plt.plot(z0, y2 ,\"ko\", markersize = 8)\n",
    "# アイソクライン\n",
    "plt.plot(zz_list, yy_list, color = \"b\")\n",
    "plt.axvline(z0, color = \"r\")\n",
    "plt.xlabel(\"z\")\n",
    "plt.ylabel(\"y\")\n",
    "plt.savefig(\"fig1a.png\", format=\"png\", dpi=300)"
   ]
  }
 ],
 "metadata": {
  "kernelspec": {
   "display_name": "Python 3 (ipykernel)",
   "language": "python",
   "name": "python3"
  },
  "language_info": {
   "codemirror_mode": {
    "name": "ipython",
    "version": 3
   },
   "file_extension": ".py",
   "mimetype": "text/x-python",
   "name": "python",
   "nbconvert_exporter": "python",
   "pygments_lexer": "ipython3",
   "version": "3.9.12"
  }
 },
 "nbformat": 4,
 "nbformat_minor": 5
}
